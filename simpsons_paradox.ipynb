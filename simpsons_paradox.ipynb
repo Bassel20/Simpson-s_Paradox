{
  "cells": [
    {
      "cell_type": "markdown",
      "metadata": {
        "id": "view-in-github",
        "colab_type": "text"
      },
      "source": [
        "<a href=\"https://colab.research.google.com/github/Bassel20/Simpson-s_Paradox/blob/main/simpsons_paradox.ipynb\" target=\"_parent\"><img src=\"https://colab.research.google.com/assets/colab-badge.svg\" alt=\"Open In Colab\"/></a>"
      ]
    },
    {
      "cell_type": "markdown",
      "metadata": {
        "collapsed": true,
        "id": "HPABEN9gAiZV"
      },
      "source": [
        "# **Simpson's Paradox**\n",
        "By: Bassel Sherif <br>\n",
        "The purpose of this notebook is to demonstrate one of  most interesting statistical phenomena in Statistics <br>\n",
        "**The Simpson's paradox** refers to a phenomenon where a trend appears in several different groups of data, but disappears or reverses when these groups are combined. It is a result of confounding variables, where the relationship between two variables is obscured by the influence of a third variable. This paradox can lead to incorrect conclusions and misleading results, which highlights the importance of considering all relevant variables when analyzing data. <br>\n",
        "In this notebook I have demonstrated this phenomenon using a college admissions dataset<br>\n",
        "`admission_data.csv` was used for this exercise. <br>"
      ]
    },
    {
      "cell_type": "code",
      "execution_count": null,
      "metadata": {
        "id": "zMuA2aimAiZf",
        "outputId": "57a9c153-7928-4446-83fe-4937c79abf89"
      },
      "outputs": [
        {
          "data": {
            "text/html": [
              "<div>\n",
              "<style scoped>\n",
              "    .dataframe tbody tr th:only-of-type {\n",
              "        vertical-align: middle;\n",
              "    }\n",
              "\n",
              "    .dataframe tbody tr th {\n",
              "        vertical-align: top;\n",
              "    }\n",
              "\n",
              "    .dataframe thead th {\n",
              "        text-align: right;\n",
              "    }\n",
              "</style>\n",
              "<table border=\"1\" class=\"dataframe\">\n",
              "  <thead>\n",
              "    <tr style=\"text-align: right;\">\n",
              "      <th></th>\n",
              "      <th>student_id</th>\n",
              "      <th>gender</th>\n",
              "      <th>major</th>\n",
              "      <th>admitted</th>\n",
              "    </tr>\n",
              "  </thead>\n",
              "  <tbody>\n",
              "    <tr>\n",
              "      <th>0</th>\n",
              "      <td>35377</td>\n",
              "      <td>female</td>\n",
              "      <td>Chemistry</td>\n",
              "      <td>False</td>\n",
              "    </tr>\n",
              "    <tr>\n",
              "      <th>1</th>\n",
              "      <td>56105</td>\n",
              "      <td>male</td>\n",
              "      <td>Physics</td>\n",
              "      <td>True</td>\n",
              "    </tr>\n",
              "    <tr>\n",
              "      <th>2</th>\n",
              "      <td>31441</td>\n",
              "      <td>female</td>\n",
              "      <td>Chemistry</td>\n",
              "      <td>False</td>\n",
              "    </tr>\n",
              "    <tr>\n",
              "      <th>3</th>\n",
              "      <td>51765</td>\n",
              "      <td>male</td>\n",
              "      <td>Physics</td>\n",
              "      <td>True</td>\n",
              "    </tr>\n",
              "    <tr>\n",
              "      <th>4</th>\n",
              "      <td>53714</td>\n",
              "      <td>female</td>\n",
              "      <td>Physics</td>\n",
              "      <td>True</td>\n",
              "    </tr>\n",
              "    <tr>\n",
              "      <th>5</th>\n",
              "      <td>50693</td>\n",
              "      <td>female</td>\n",
              "      <td>Chemistry</td>\n",
              "      <td>False</td>\n",
              "    </tr>\n",
              "    <tr>\n",
              "      <th>6</th>\n",
              "      <td>25946</td>\n",
              "      <td>male</td>\n",
              "      <td>Physics</td>\n",
              "      <td>True</td>\n",
              "    </tr>\n",
              "    <tr>\n",
              "      <th>7</th>\n",
              "      <td>27648</td>\n",
              "      <td>female</td>\n",
              "      <td>Chemistry</td>\n",
              "      <td>True</td>\n",
              "    </tr>\n",
              "  </tbody>\n",
              "</table>\n",
              "</div>"
            ],
            "text/plain": [
              "   student_id  gender      major  admitted\n",
              "0       35377  female  Chemistry     False\n",
              "1       56105    male    Physics      True\n",
              "2       31441  female  Chemistry     False\n",
              "3       51765    male    Physics      True\n",
              "4       53714  female    Physics      True\n",
              "5       50693  female  Chemistry     False\n",
              "6       25946    male    Physics      True\n",
              "7       27648  female  Chemistry      True"
            ]
          },
          "execution_count": 2,
          "metadata": {},
          "output_type": "execute_result"
        }
      ],
      "source": [
        "# Load and view first few lines of dataset\n",
        "import numpy as np\n",
        "import pandas as pd\n",
        "\n",
        "df = pd.read_csv(\"admission_data.csv\")\n",
        "df.head(8)\n"
      ]
    },
    {
      "cell_type": "markdown",
      "metadata": {
        "id": "FH5mbMXqAiZk"
      },
      "source": [
        "### Proportion and admission rate for each gender"
      ]
    },
    {
      "cell_type": "code",
      "execution_count": null,
      "metadata": {
        "id": "gJst7EZlAiZl",
        "outputId": "d327b163-227c-44d7-998d-c0d1aa509162"
      },
      "outputs": [
        {
          "data": {
            "text/plain": [
              "0.51400000000000001"
            ]
          },
          "execution_count": 47,
          "metadata": {},
          "output_type": "execute_result"
        }
      ],
      "source": [
        "# Proportion of students that are female\n",
        "x = df['gender'].tolist().count('female')\n",
        "y = df['gender'].count()\n",
        "female_proportion = x/y\n",
        "female_proportion"
      ]
    },
    {
      "cell_type": "code",
      "execution_count": null,
      "metadata": {
        "id": "OQsNrDewAiZm",
        "outputId": "63a28575-d773-4ddb-8eb7-973d78e2a865"
      },
      "outputs": [
        {
          "data": {
            "text/plain": [
              "0.48599999999999999"
            ]
          },
          "execution_count": 4,
          "metadata": {},
          "output_type": "execute_result"
        }
      ],
      "source": [
        "# Proportion of students that are male\n",
        "z = df['gender'].tolist().count('male')\n",
        "k = df['gender'].count()\n",
        "male_proportion = z/k\n",
        "male_proportion"
      ]
    },
    {
      "cell_type": "code",
      "execution_count": null,
      "metadata": {
        "id": "u5atOuL0AiZq",
        "outputId": "770621d6-e775-46d1-f3ff-b796772e66e2"
      },
      "outputs": [
        {
          "data": {
            "text/plain": [
              "0.28793774319066145"
            ]
          },
          "execution_count": 45,
          "metadata": {},
          "output_type": "execute_result"
        }
      ],
      "source": [
        "# Admission rate for females\n",
        "df.loc[df['gender'].eq('female'), 'admitted'].mean()"
      ]
    },
    {
      "cell_type": "code",
      "execution_count": null,
      "metadata": {
        "id": "Sfdy054kAiZt",
        "outputId": "50552839-5042-4055-bd66-df66b9afbe06"
      },
      "outputs": [
        {
          "data": {
            "text/plain": [
              "0.48559670781893005"
            ]
          },
          "execution_count": 46,
          "metadata": {},
          "output_type": "execute_result"
        }
      ],
      "source": [
        "# Admission rate for males\n",
        "df.loc[df['gender'].eq('male'), 'admitted'].mean()"
      ]
    },
    {
      "cell_type": "markdown",
      "metadata": {
        "id": "VlMxfpbNAiZu"
      },
      "source": [
        "### Proportion and admission rate for physics majors of each gender"
      ]
    },
    {
      "cell_type": "code",
      "execution_count": null,
      "metadata": {
        "id": "u_MEdIkEAiZu",
        "outputId": "52b014d8-1f4c-40b4-8832-aad28039eb13"
      },
      "outputs": [
        {
          "data": {
            "text/plain": [
              "student_id    0.120623\n",
              "gender        0.120623\n",
              "major         0.120623\n",
              "admitted      0.120623\n",
              "dtype: float64"
            ]
          },
          "execution_count": 126,
          "metadata": {},
          "output_type": "execute_result"
        }
      ],
      "source": [
        "# What proportion of female students are majoring in physics?\n",
        "df2 = df.loc[df['gender'].eq('female')]\n",
        "x = df2.loc[df['major'].eq('Physics')].count()\n",
        "x / df2.count()"
      ]
    },
    {
      "cell_type": "code",
      "execution_count": null,
      "metadata": {
        "id": "CHfHCyJIAiZv",
        "outputId": "7a13403d-d4b1-40d1-aa39-3f7d491f1cd7"
      },
      "outputs": [
        {
          "data": {
            "text/plain": [
              "student_id    0.925926\n",
              "gender        0.925926\n",
              "major         0.925926\n",
              "admitted      0.925926\n",
              "dtype: float64"
            ]
          },
          "execution_count": 70,
          "metadata": {},
          "output_type": "execute_result"
        }
      ],
      "source": [
        "# What proportion of male students are majoring in physics?\n",
        "df2 = df.loc[df['gender'].eq('male')]\n",
        "x = df2.loc[df['major'].eq('Physics')].count()\n",
        "x / df2.count()"
      ]
    },
    {
      "cell_type": "code",
      "execution_count": null,
      "metadata": {
        "id": "6JYhvoUNAiZw",
        "outputId": "0f21ccbb-e557-4ee5-cbe2-dec862b408a6"
      },
      "outputs": [
        {
          "data": {
            "text/plain": [
              "0.54296875"
            ]
          },
          "execution_count": 124,
          "metadata": {},
          "output_type": "execute_result"
        }
      ],
      "source": [
        "# Admission rate for female physics majors\n",
        "\n",
        "df2 = df.loc[df['gender'].eq('female')]\n",
        "df.loc[df['major'].eq('Physics'), 'admitted'].mean()\n"
      ]
    },
    {
      "cell_type": "code",
      "execution_count": null,
      "metadata": {
        "id": "JKJWb_umAiZw",
        "outputId": "3a019daa-a08d-4323-e1c8-3b135f3cde94"
      },
      "outputs": [
        {
          "data": {
            "text/plain": [
              "0.51555555555555554"
            ]
          },
          "execution_count": 62,
          "metadata": {},
          "output_type": "execute_result"
        }
      ],
      "source": [
        "# Admission rate for male physics majors\n",
        "df2 = df.loc[df['gender'].eq('male')]\n",
        "df2.loc[df['major'].eq('Physics'), 'admitted'].mean()"
      ]
    },
    {
      "cell_type": "markdown",
      "metadata": {
        "id": "5zkDlX3JAiZx"
      },
      "source": [
        "### Proportion and admission rate for chemistry majors of each gender"
      ]
    },
    {
      "cell_type": "code",
      "execution_count": null,
      "metadata": {
        "id": "UejLgV-iAiZy",
        "outputId": "a3e3dbf2-8d2b-42e8-ccc5-29d04dda760e"
      },
      "outputs": [
        {
          "data": {
            "text/plain": [
              "student_id    0.879377\n",
              "gender        0.879377\n",
              "major         0.879377\n",
              "admitted      0.879377\n",
              "dtype: float64"
            ]
          },
          "execution_count": 73,
          "metadata": {},
          "output_type": "execute_result"
        }
      ],
      "source": [
        "# What proportion of female students are majoring in chemistry?\n",
        "df2 = df.loc[df['gender'].eq('female')]\n",
        "x = df2.loc[df['major'].eq('Chemistry')].count()\n",
        "x / df2.count()"
      ]
    },
    {
      "cell_type": "code",
      "execution_count": null,
      "metadata": {
        "id": "G-h15BaOAiZy",
        "outputId": "35d10629-1c20-4b61-8e5e-e2b5cbd56d93"
      },
      "outputs": [
        {
          "data": {
            "text/plain": [
              "student_id    0.074074\n",
              "gender        0.074074\n",
              "major         0.074074\n",
              "admitted      0.074074\n",
              "dtype: float64"
            ]
          },
          "execution_count": 74,
          "metadata": {},
          "output_type": "execute_result"
        }
      ],
      "source": [
        "# What proportion of male students are majoring in chemistry?\n",
        "df2 = df.loc[df['gender'].eq('male')]\n",
        "x = df2.loc[df['major'].eq('Chemistry')].count()\n",
        "x / df2.count()"
      ]
    },
    {
      "cell_type": "code",
      "execution_count": null,
      "metadata": {
        "id": "OoxPiriVAiZz",
        "outputId": "5dc55af8-bbb9-4a04-d4bd-9c8fef0c52a5"
      },
      "outputs": [
        {
          "data": {
            "text/plain": [
              "0.22566371681415928"
            ]
          },
          "execution_count": 75,
          "metadata": {},
          "output_type": "execute_result"
        }
      ],
      "source": [
        "# Admission rate for female chemistry majors\n",
        "df2 = df.loc[df['gender'].eq('female')]\n",
        "df2.loc[df['major'].eq('Chemistry'), 'admitted'].mean()"
      ]
    },
    {
      "cell_type": "code",
      "execution_count": null,
      "metadata": {
        "id": "lt0fIb0nAiZz",
        "outputId": "c705fc91-f381-4762-d098-e167ccaa43d7"
      },
      "outputs": [
        {
          "data": {
            "text/plain": [
              "0.1111111111111111"
            ]
          },
          "execution_count": 76,
          "metadata": {},
          "output_type": "execute_result"
        }
      ],
      "source": [
        "# Admission rate for male chemistry majors\n",
        "df2 = df.loc[df['gender'].eq('male')]\n",
        "df2.loc[df['major'].eq('Chemistry'), 'admitted'].mean()"
      ]
    },
    {
      "cell_type": "markdown",
      "metadata": {
        "id": "UKoiC5GKAiZ0"
      },
      "source": [
        "### Admission rate for each major"
      ]
    },
    {
      "cell_type": "code",
      "execution_count": null,
      "metadata": {
        "id": "8eWJk3XEAiZ0",
        "outputId": "8712acd6-8a3c-4134-da53-c7f4550832c6"
      },
      "outputs": [
        {
          "data": {
            "text/plain": [
              "0.54296875"
            ]
          },
          "execution_count": 130,
          "metadata": {},
          "output_type": "execute_result"
        }
      ],
      "source": [
        "# Admission rate for physics majors\n",
        "df.loc[df['major'].eq('Physics'), 'admitted'].mean()"
      ]
    },
    {
      "cell_type": "code",
      "execution_count": null,
      "metadata": {
        "id": "-hldzSc1AiZ1",
        "outputId": "edf9c918-7a5d-4df6-c7be-6b32766d06e5"
      },
      "outputs": [
        {
          "data": {
            "text/plain": [
              "student_id    42189.500000\n",
              "admitted          0.217213\n",
              "dtype: float64"
            ]
          },
          "execution_count": 131,
          "metadata": {},
          "output_type": "execute_result"
        }
      ],
      "source": [
        "# Admission rate for chemistry majors\n",
        "df.query('major == \"Chemistry\"').mean()"
      ]
    },
    {
      "cell_type": "code",
      "execution_count": null,
      "metadata": {
        "id": "-0OygZHRAiZ2"
      },
      "outputs": [],
      "source": []
    }
  ],
  "metadata": {
    "kernelspec": {
      "display_name": "Python 3",
      "language": "python",
      "name": "python3"
    },
    "language_info": {
      "codemirror_mode": {
        "name": "ipython",
        "version": 3
      },
      "file_extension": ".py",
      "mimetype": "text/x-python",
      "name": "python",
      "nbconvert_exporter": "python",
      "pygments_lexer": "ipython3",
      "version": "3.6.3"
    },
    "colab": {
      "provenance": [],
      "include_colab_link": true
    }
  },
  "nbformat": 4,
  "nbformat_minor": 0
}